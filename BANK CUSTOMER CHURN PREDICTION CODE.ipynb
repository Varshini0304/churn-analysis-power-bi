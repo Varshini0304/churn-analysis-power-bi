{
 "cells": [
  {
   "cell_type": "code",
   "execution_count": 1,
   "id": "c5b3199d",
   "metadata": {},
   "outputs": [],
   "source": [
    "import pandas as pd\n",
    "from sklearn.model_selection import train_test_split\n",
    "from sklearn.ensemble import RandomForestClassifier\n",
    "from sklearn.metrics import accuracy_score, classification_report, confusion_matrix"
   ]
  },
  {
   "cell_type": "code",
   "execution_count": 2,
   "id": "742cee44",
   "metadata": {},
   "outputs": [],
   "source": [
    "# Step 1: Data Preparation\n",
    "data = pd.read_csv(\"C:\\\\Users\\\\Varshini\\\\Documents\\\\bankcustomerchurn.csv\")"
   ]
  },
  {
   "cell_type": "code",
   "execution_count": 3,
   "id": "d15efe8f",
   "metadata": {},
   "outputs": [
    {
     "name": "stdout",
     "output_type": "stream",
     "text": [
      "     RowNumber  CustomerId    Surname  CreditScore Geography  Gender  Age  \\\n",
      "0            1    15634602   Hargrave          619    France  Female   42   \n",
      "1            2    15647311       Hill          608     Spain  Female   41   \n",
      "2            3    15619304       Onio          502    France  Female   42   \n",
      "3            4    15701354       Boni          699    France  Female   39   \n",
      "4            5    15737888   Mitchell          850     Spain  Female   43   \n",
      "..         ...         ...        ...          ...       ...     ...  ...   \n",
      "795        796    15686870       Ball          761   Germany    Male   36   \n",
      "796        797    15668747      Virgo          702    France  Female   46   \n",
      "797        798    15766908  Trevisani          488   Germany    Male   32   \n",
      "798        799    15570134   Padovano          683    France  Female   35   \n",
      "799        800    15567367        Tao          601   Germany  Female   42   \n",
      "\n",
      "     Tenure    Balance  NumOfProducts  HasCrCard  IsActiveMember  \\\n",
      "0         2       0.00              1          1               1   \n",
      "1         1   83807.86              1          0               1   \n",
      "2         8  159660.80              3          1               0   \n",
      "3         1       0.00              2          0               0   \n",
      "4         2  125510.82              1          1               1   \n",
      "..      ...        ...            ...        ...             ...   \n",
      "795       8  108239.11              2          0               0   \n",
      "796       9   98444.19              1          0               1   \n",
      "797       3  114540.38              1          1               0   \n",
      "798       6  187530.66              2          1               1   \n",
      "799       9  133636.16              1          0               1   \n",
      "\n",
      "     EstimatedSalary  Exited  \n",
      "0          101348.88       1  \n",
      "1          112542.58       0  \n",
      "2          113931.57       1  \n",
      "3           93826.63       0  \n",
      "4           79084.10       0  \n",
      "..               ...     ...  \n",
      "795         99444.02       0  \n",
      "796        109563.28       0  \n",
      "797         92568.07       0  \n",
      "798         37976.36       0  \n",
      "799        103315.74       0  \n",
      "\n",
      "[800 rows x 14 columns]\n"
     ]
    }
   ],
   "source": [
    "print(data)"
   ]
  },
  {
   "cell_type": "code",
   "execution_count": 4,
   "id": "93fb0010",
   "metadata": {},
   "outputs": [
    {
     "name": "stdout",
     "output_type": "stream",
     "text": [
      "<class 'pandas.core.frame.DataFrame'>\n",
      "RangeIndex: 800 entries, 0 to 799\n",
      "Data columns (total 14 columns):\n",
      " #   Column           Non-Null Count  Dtype  \n",
      "---  ------           --------------  -----  \n",
      " 0   RowNumber        800 non-null    int64  \n",
      " 1   CustomerId       800 non-null    int64  \n",
      " 2   Surname          800 non-null    object \n",
      " 3   CreditScore      800 non-null    int64  \n",
      " 4   Geography        800 non-null    object \n",
      " 5   Gender           800 non-null    object \n",
      " 6   Age              800 non-null    int64  \n",
      " 7   Tenure           800 non-null    int64  \n",
      " 8   Balance          800 non-null    float64\n",
      " 9   NumOfProducts    800 non-null    int64  \n",
      " 10  HasCrCard        800 non-null    int64  \n",
      " 11  IsActiveMember   800 non-null    int64  \n",
      " 12  EstimatedSalary  800 non-null    float64\n",
      " 13  Exited           800 non-null    int64  \n",
      "dtypes: float64(2), int64(9), object(3)\n",
      "memory usage: 87.6+ KB\n"
     ]
    }
   ],
   "source": [
    "data.info()"
   ]
  },
  {
   "cell_type": "code",
   "execution_count": 5,
   "id": "2fd1985f",
   "metadata": {},
   "outputs": [
    {
     "data": {
      "text/html": [
       "<div>\n",
       "<style scoped>\n",
       "    .dataframe tbody tr th:only-of-type {\n",
       "        vertical-align: middle;\n",
       "    }\n",
       "\n",
       "    .dataframe tbody tr th {\n",
       "        vertical-align: top;\n",
       "    }\n",
       "\n",
       "    .dataframe thead th {\n",
       "        text-align: right;\n",
       "    }\n",
       "</style>\n",
       "<table border=\"1\" class=\"dataframe\">\n",
       "  <thead>\n",
       "    <tr style=\"text-align: right;\">\n",
       "      <th></th>\n",
       "      <th>RowNumber</th>\n",
       "      <th>CustomerId</th>\n",
       "      <th>CreditScore</th>\n",
       "      <th>Age</th>\n",
       "      <th>Tenure</th>\n",
       "      <th>Balance</th>\n",
       "      <th>NumOfProducts</th>\n",
       "      <th>HasCrCard</th>\n",
       "      <th>IsActiveMember</th>\n",
       "      <th>EstimatedSalary</th>\n",
       "      <th>Exited</th>\n",
       "    </tr>\n",
       "  </thead>\n",
       "  <tbody>\n",
       "    <tr>\n",
       "      <th>count</th>\n",
       "      <td>800.0000</td>\n",
       "      <td>8.000000e+02</td>\n",
       "      <td>800.000000</td>\n",
       "      <td>800.000000</td>\n",
       "      <td>800.000000</td>\n",
       "      <td>800.000000</td>\n",
       "      <td>800.000000</td>\n",
       "      <td>800.000000</td>\n",
       "      <td>800.000000</td>\n",
       "      <td>800.000000</td>\n",
       "      <td>800.000000</td>\n",
       "    </tr>\n",
       "    <tr>\n",
       "      <th>mean</th>\n",
       "      <td>400.5000</td>\n",
       "      <td>1.569219e+07</td>\n",
       "      <td>649.695000</td>\n",
       "      <td>38.860000</td>\n",
       "      <td>5.042500</td>\n",
       "      <td>77488.718287</td>\n",
       "      <td>1.527500</td>\n",
       "      <td>0.707500</td>\n",
       "      <td>0.505000</td>\n",
       "      <td>99125.108075</td>\n",
       "      <td>0.203750</td>\n",
       "    </tr>\n",
       "    <tr>\n",
       "      <th>std</th>\n",
       "      <td>231.0844</td>\n",
       "      <td>7.158805e+04</td>\n",
       "      <td>99.298942</td>\n",
       "      <td>10.287502</td>\n",
       "      <td>2.948145</td>\n",
       "      <td>62724.659857</td>\n",
       "      <td>0.574157</td>\n",
       "      <td>0.455195</td>\n",
       "      <td>0.500288</td>\n",
       "      <td>56979.191541</td>\n",
       "      <td>0.403037</td>\n",
       "    </tr>\n",
       "    <tr>\n",
       "      <th>min</th>\n",
       "      <td>1.0000</td>\n",
       "      <td>1.556611e+07</td>\n",
       "      <td>376.000000</td>\n",
       "      <td>18.000000</td>\n",
       "      <td>0.000000</td>\n",
       "      <td>0.000000</td>\n",
       "      <td>1.000000</td>\n",
       "      <td>0.000000</td>\n",
       "      <td>0.000000</td>\n",
       "      <td>371.050000</td>\n",
       "      <td>0.000000</td>\n",
       "    </tr>\n",
       "    <tr>\n",
       "      <th>25%</th>\n",
       "      <td>200.7500</td>\n",
       "      <td>1.563216e+07</td>\n",
       "      <td>582.000000</td>\n",
       "      <td>32.000000</td>\n",
       "      <td>2.000000</td>\n",
       "      <td>0.000000</td>\n",
       "      <td>1.000000</td>\n",
       "      <td>0.000000</td>\n",
       "      <td>0.000000</td>\n",
       "      <td>50336.007500</td>\n",
       "      <td>0.000000</td>\n",
       "    </tr>\n",
       "    <tr>\n",
       "      <th>50%</th>\n",
       "      <td>400.5000</td>\n",
       "      <td>1.569257e+07</td>\n",
       "      <td>656.000000</td>\n",
       "      <td>37.000000</td>\n",
       "      <td>5.000000</td>\n",
       "      <td>98581.950000</td>\n",
       "      <td>1.000000</td>\n",
       "      <td>1.000000</td>\n",
       "      <td>1.000000</td>\n",
       "      <td>98733.305000</td>\n",
       "      <td>0.000000</td>\n",
       "    </tr>\n",
       "    <tr>\n",
       "      <th>75%</th>\n",
       "      <td>600.2500</td>\n",
       "      <td>1.575179e+07</td>\n",
       "      <td>722.500000</td>\n",
       "      <td>44.000000</td>\n",
       "      <td>8.000000</td>\n",
       "      <td>128478.925000</td>\n",
       "      <td>2.000000</td>\n",
       "      <td>1.000000</td>\n",
       "      <td>1.000000</td>\n",
       "      <td>146808.280000</td>\n",
       "      <td>0.000000</td>\n",
       "    </tr>\n",
       "    <tr>\n",
       "      <th>max</th>\n",
       "      <td>800.0000</td>\n",
       "      <td>1.581536e+07</td>\n",
       "      <td>850.000000</td>\n",
       "      <td>82.000000</td>\n",
       "      <td>10.000000</td>\n",
       "      <td>213146.200000</td>\n",
       "      <td>4.000000</td>\n",
       "      <td>1.000000</td>\n",
       "      <td>1.000000</td>\n",
       "      <td>199725.390000</td>\n",
       "      <td>1.000000</td>\n",
       "    </tr>\n",
       "  </tbody>\n",
       "</table>\n",
       "</div>"
      ],
      "text/plain": [
       "       RowNumber    CustomerId  CreditScore         Age      Tenure  \\\n",
       "count   800.0000  8.000000e+02   800.000000  800.000000  800.000000   \n",
       "mean    400.5000  1.569219e+07   649.695000   38.860000    5.042500   \n",
       "std     231.0844  7.158805e+04    99.298942   10.287502    2.948145   \n",
       "min       1.0000  1.556611e+07   376.000000   18.000000    0.000000   \n",
       "25%     200.7500  1.563216e+07   582.000000   32.000000    2.000000   \n",
       "50%     400.5000  1.569257e+07   656.000000   37.000000    5.000000   \n",
       "75%     600.2500  1.575179e+07   722.500000   44.000000    8.000000   \n",
       "max     800.0000  1.581536e+07   850.000000   82.000000   10.000000   \n",
       "\n",
       "             Balance  NumOfProducts   HasCrCard  IsActiveMember  \\\n",
       "count     800.000000     800.000000  800.000000      800.000000   \n",
       "mean    77488.718287       1.527500    0.707500        0.505000   \n",
       "std     62724.659857       0.574157    0.455195        0.500288   \n",
       "min         0.000000       1.000000    0.000000        0.000000   \n",
       "25%         0.000000       1.000000    0.000000        0.000000   \n",
       "50%     98581.950000       1.000000    1.000000        1.000000   \n",
       "75%    128478.925000       2.000000    1.000000        1.000000   \n",
       "max    213146.200000       4.000000    1.000000        1.000000   \n",
       "\n",
       "       EstimatedSalary      Exited  \n",
       "count       800.000000  800.000000  \n",
       "mean      99125.108075    0.203750  \n",
       "std       56979.191541    0.403037  \n",
       "min         371.050000    0.000000  \n",
       "25%       50336.007500    0.000000  \n",
       "50%       98733.305000    0.000000  \n",
       "75%      146808.280000    0.000000  \n",
       "max      199725.390000    1.000000  "
      ]
     },
     "execution_count": 5,
     "metadata": {},
     "output_type": "execute_result"
    }
   ],
   "source": [
    "data.describe()"
   ]
  },
  {
   "cell_type": "code",
   "execution_count": 6,
   "id": "4352290b",
   "metadata": {},
   "outputs": [
    {
     "name": "stdout",
     "output_type": "stream",
     "text": [
      "(800, 14)\n"
     ]
    }
   ],
   "source": [
    "a1 = data.shape\n",
    "print(a1)"
   ]
  },
  {
   "cell_type": "code",
   "execution_count": 7,
   "id": "2f128622",
   "metadata": {},
   "outputs": [
    {
     "name": "stdout",
     "output_type": "stream",
     "text": [
      "RowNumber          0\n",
      "CustomerId         0\n",
      "Surname            0\n",
      "CreditScore        0\n",
      "Geography          0\n",
      "Gender             0\n",
      "Age                0\n",
      "Tenure             0\n",
      "Balance            0\n",
      "NumOfProducts      0\n",
      "HasCrCard          0\n",
      "IsActiveMember     0\n",
      "EstimatedSalary    0\n",
      "Exited             0\n",
      "dtype: int64\n"
     ]
    }
   ],
   "source": [
    "a2 = data.isnull().sum()\n",
    "print(a2)"
   ]
  },
  {
   "cell_type": "code",
   "execution_count": 8,
   "id": "f93b4dc1",
   "metadata": {},
   "outputs": [
    {
     "name": "stdout",
     "output_type": "stream",
     "text": [
      "RowNumber          800\n",
      "CustomerId         800\n",
      "Surname            625\n",
      "CreditScore        336\n",
      "Geography            3\n",
      "Gender               2\n",
      "Age                 58\n",
      "Tenure              11\n",
      "Balance            517\n",
      "NumOfProducts        4\n",
      "HasCrCard            2\n",
      "IsActiveMember       2\n",
      "EstimatedSalary    800\n",
      "Exited               2\n",
      "dtype: int64\n"
     ]
    }
   ],
   "source": [
    "a3 = data.nunique()\n",
    "print(a3)"
   ]
  },
  {
   "cell_type": "code",
   "execution_count": 9,
   "id": "49888308",
   "metadata": {},
   "outputs": [],
   "source": [
    "# Preprocessing (handle missing values, encode categorical variables, etc.)\n",
    "data = data.drop([\"RowNumber\", \"CustomerId\", \"Surname\",\"Geography\",\"Gender\"], axis = 1)"
   ]
  },
  {
   "cell_type": "code",
   "execution_count": 11,
   "id": "9baa56a6",
   "metadata": {},
   "outputs": [
    {
     "name": "stdout",
     "output_type": "stream",
     "text": [
      "   CreditScore  Age  Tenure    Balance  NumOfProducts  HasCrCard  \\\n",
      "0          619   42       2       0.00              1          1   \n",
      "1          608   41       1   83807.86              1          0   \n",
      "2          502   42       8  159660.80              3          1   \n",
      "3          699   39       1       0.00              2          0   \n",
      "4          850   43       2  125510.82              1          1   \n",
      "\n",
      "   IsActiveMember  EstimatedSalary  Exited  \n",
      "0               1        101348.88       1  \n",
      "1               1        112542.58       0  \n",
      "2               0        113931.57       1  \n",
      "3               0         93826.63       0  \n",
      "4               1         79084.10       0  \n"
     ]
    }
   ],
   "source": [
    "# Review the top rows of what is left of the data frame\n",
    "print(data.head())"
   ]
  },
  {
   "cell_type": "code",
   "execution_count": 13,
   "id": "7cad0265",
   "metadata": {},
   "outputs": [
    {
     "name": "stdout",
     "output_type": "stream",
     "text": [
      "CreditScore          int64\n",
      "Age                  int64\n",
      "Tenure               int64\n",
      "Balance            float64\n",
      "NumOfProducts        int64\n",
      "HasCrCard            int64\n",
      "IsActiveMember       int64\n",
      "EstimatedSalary    float64\n",
      "Exited               int64\n",
      "dtype: object\n"
     ]
    }
   ],
   "source": [
    "# Check variable data types\n",
    "print(data.dtypes)"
   ]
  },
  {
   "cell_type": "code",
   "execution_count": 18,
   "id": "29ddb16c",
   "metadata": {},
   "outputs": [],
   "source": [
    "import numpy as np\n",
    "import matplotlib.pyplot as plt"
   ]
  },
  {
   "cell_type": "code",
   "execution_count": 22,
   "id": "a80334f4",
   "metadata": {},
   "outputs": [
    {
     "data": {
      "image/png": "[encoded data removed]",
      "text/plain": [
       "<Figure size 720x576 with 1 Axes>"
      ]
     },
     "metadata": {},
     "output_type": "display_data"
    }
   ],
   "source": [
    "labels = 'Exited', 'Retained'\n",
    "sizes = [data.Exited[data['Exited']==1].count(), data.Exited[data['Exited']==0].count()]\n",
    "explode = (0, 0.1)\n",
    "fig1, ax1 = plt.subplots(figsize=(10, 8))\n",
    "ax1.pie(sizes, explode=explode, labels=labels, autopct='%1.1f%%',\n",
    "        shadow=True, startangle=90)\n",
    "ax1.axis('equal')\n",
    "plt.title(\"Proportion of customer churned and retained\",size=20)\n",
    "plt.show()"
   ]
  },
  {
   "cell_type": "code",
   "execution_count": 23,
   "id": "f6b0eaa7",
   "metadata": {},
   "outputs": [],
   "source": [
    "# Step 2: Data Splitting\n",
    "X = data.drop('Exited', axis=1)  # Features\n",
    "y = data['Exited']  # Target variable (Churn status)"
   ]
  },
  {
   "cell_type": "code",
   "execution_count": 24,
   "id": "0e266b19",
   "metadata": {},
   "outputs": [],
   "source": [
    "# print(data)\n",
    "X_train, X_test, y_train, y_test = train_test_split(X, y, test_size=0.2, random_state=42)"
   ]
  },
  {
   "cell_type": "code",
   "execution_count": 25,
   "id": "44ea9db5",
   "metadata": {},
   "outputs": [
    {
     "data": {
      "text/plain": [
       "RandomForestClassifier(max_depth=10, random_state=42)"
      ]
     },
     "execution_count": 25,
     "metadata": {},
     "output_type": "execute_result"
    }
   ],
   "source": [
    "# Step 4: Create the Random Forest Model\n",
    "# Initialize the Random Forest classifier with appropriate hyperparameters\n",
    "rf_model = RandomForestClassifier(n_estimators=100, max_depth=10, random_state=42)\n",
    "# Fit the model on the training data\n",
    "rf_model.fit(X_train, y_train)"
   ]
  },
  {
   "cell_type": "code",
   "execution_count": 26,
   "id": "f0bea4aa",
   "metadata": {},
   "outputs": [],
   "source": [
    "# Step 5: Make Predictions\n",
    "y_pred = rf_model.predict(X_test)"
   ]
  },
  {
   "cell_type": "code",
   "execution_count": 27,
   "id": "4f5e62a7",
   "metadata": {},
   "outputs": [],
   "source": [
    "# Step 6: Evaluate the Model\n",
    "accuracy = accuracy_score(y_test, y_pred)\n",
    "confusion_matrix = confusion_matrix(y_test, y_pred)\n",
    "classification_rep = classification_report(y_test, y_pred)"
   ]
  },
  {
   "cell_type": "code",
   "execution_count": 28,
   "id": "96bf8924",
   "metadata": {},
   "outputs": [
    {
     "name": "stdout",
     "output_type": "stream",
     "text": [
      "Accuracy: 0.85625\n"
     ]
    }
   ],
   "source": [
    "print(f\"Accuracy: {accuracy}\")"
   ]
  },
  {
   "cell_type": "code",
   "execution_count": 29,
   "id": "01b8564d",
   "metadata": {},
   "outputs": [
    {
     "name": "stdout",
     "output_type": "stream",
     "text": [
      "Confusion Matrix:\n",
      "[[124   2]\n",
      " [ 21  13]]\n"
     ]
    }
   ],
   "source": [
    "print(\"Confusion Matrix:\")\n",
    "print(confusion_matrix)"
   ]
  },
  {
   "cell_type": "code",
   "execution_count": 30,
   "id": "b8c6e61d",
   "metadata": {},
   "outputs": [
    {
     "name": "stdout",
     "output_type": "stream",
     "text": [
      "Classification Report:\n",
      "              precision    recall  f1-score   support\n",
      "\n",
      "           0       0.86      0.98      0.92       126\n",
      "           1       0.87      0.38      0.53        34\n",
      "\n",
      "    accuracy                           0.86       160\n",
      "   macro avg       0.86      0.68      0.72       160\n",
      "weighted avg       0.86      0.86      0.83       160\n",
      "\n"
     ]
    }
   ],
   "source": [
    "print(\"Classification Report:\")\n",
    "print(classification_rep)"
   ]
  },
  {
   "cell_type": "code",
   "execution_count": null,
   "id": "12a12ca1",
   "metadata": {},
   "outputs": [],
   "source": []
  }
 ],
 "metadata": {
  "kernelspec": {
   "display_name": "Python 3",
   "language": "python",
   "name": "python3"
  },
  "language_info": {
   "codemirror_mode": {
    "name": "ipython",
    "version": 3
   },
   "file_extension": ".py",
   "mimetype": "text/x-python",
   "name": "python",
   "nbconvert_exporter": "python",
   "pygments_lexer": "ipython3",
   "version": "3.8.8"
  }
 },
 "nbformat": 4,
 "nbformat_minor": 5
}
